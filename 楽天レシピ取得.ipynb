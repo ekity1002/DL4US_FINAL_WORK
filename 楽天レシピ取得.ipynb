{
  "nbformat": 4,
  "nbformat_minor": 0,
  "metadata": {
    "colab": {
      "name": "楽天レシピ取得.ipynb",
      "provenance": [],
      "collapsed_sections": [],
      "include_colab_link": true
    },
    "kernelspec": {
      "name": "python3",
      "display_name": "Python 3"
    },
    "accelerator": "GPU"
  },
  "cells": [
    {
      "cell_type": "markdown",
      "metadata": {
        "id": "view-in-github",
        "colab_type": "text"
      },
      "source": [
        "<a href=\"https://colab.research.google.com/github/ekity1002/DL4US_FINAL_WORK/blob/master/%E6%A5%BD%E5%A4%A9%E3%83%AC%E3%82%B7%E3%83%94%E5%8F%96%E5%BE%97.ipynb\" target=\"_parent\"><img src=\"https://colab.research.google.com/assets/colab-badge.svg\" alt=\"Open In Colab\"/></a>"
      ]
    },
    {
      "cell_type": "code",
      "metadata": {
        "id": "KNMF1vwHnVi7",
        "colab_type": "code",
        "colab": {
          "base_uri": "https://localhost:8080/",
          "height": 54
        },
        "outputId": "2bd4d2d9-2d82-4318-f2fe-f2192423aa86"
      },
      "source": [
        "from google.colab import drive\n",
        "drive.mount('/content/drive')"
      ],
      "execution_count": 8,
      "outputs": [
        {
          "output_type": "stream",
          "text": [
            "Drive already mounted at /content/drive; to attempt to forcibly remount, call drive.mount(\"/content/drive\", force_remount=True).\n"
          ],
          "name": "stdout"
        }
      ]
    },
    {
      "cell_type": "code",
      "metadata": {
        "id": "ZcrO9fqG4dOU",
        "colab_type": "code",
        "colab": {}
      },
      "source": [
        "# -*- coding:utf-8 -*-\n",
        "\n",
        "import requests\n",
        "import csv\n",
        "from tqdm import tqdm\n",
        "from bs4 import BeautifulSoup\n",
        "from PIL import Image\n",
        "import matplotlib.pyplot as plt\n",
        "%matplotlib inline\n"
      ],
      "execution_count": 0,
      "outputs": []
    },
    {
      "cell_type": "markdown",
      "metadata": {
        "id": "OUV_c3m47K0M",
        "colab_type": "text"
      },
      "source": [
        "# 訓練データ"
      ]
    },
    {
      "cell_type": "code",
      "metadata": {
        "id": "3yGFgPKjzZfu",
        "colab_type": "code",
        "colab": {
          "base_uri": "https://localhost:8080/",
          "height": 442
        },
        "outputId": "97d2eb8f-fe80-4454-aab5-6956d123cd1a"
      },
      "source": [
        "# 一覧取得用\n",
        "N = 1\n",
        "ZAIRYOU = []\n",
        "INSTRUCTIONS = []\n",
        "IMG_PATHS = []\n",
        "\n",
        "def write_tsv(path, rows):\n",
        "    with open(path, 'a') as f:\n",
        "        writer = csv.writer(f, delimiter='\\t')\n",
        "        for row in rows:\n",
        "            writer.writerow(row)\n",
        "\n",
        "def scrape(start_url, page_range):\n",
        "    global N\n",
        "    for i in tqdm(page_range):\n",
        "        res = requests.get(f\"{start_url}\"+f\"/{i}/\")\n",
        "        soup = BeautifulSoup(res.text, 'html.parser')\n",
        "\n",
        "        # メニュー名のリンクリストを作成\n",
        "        menu_links = [n for n in soup.select('.clearfix #recipe_link, #recipe_detail_link')]\n",
        "        urls = [l['href'] for l in menu_links]\n",
        "\n",
        "        # メニュー内容のスクレイピング\n",
        "        for url in urls:\n",
        "            # スクレイピング対象の URL にリクエストを送り HTML を取得する\n",
        "            #print(url)\n",
        "            res = requests.get('https://recipe.rakuten.co.jp/'+url)\n",
        "\n",
        "            # レスポンスの HTML から BeautifulSoup オブジェクトを作る\n",
        "            soup = BeautifulSoup(res.text, 'html.parser')\n",
        "\n",
        "            # CSS セレクターを使って author を全て取得する\n",
        "            # おつまみかどうか判定\n",
        "            # author_names = [n.get_text(strip=True) for n in soup.select('a[sctag=\"recipe_detail_subcategory_medium\"]')]\n",
        "            # print(author_names)\n",
        "            # not おつまみ continue\n",
        "\n",
        "            # 画像\n",
        "            imgs = [n for n in soup.select('img[itemprop=\"image\"]')]\n",
        "            if len(imgs)==0 :\n",
        "                continue\n",
        "            src = imgs[0]['src']\n",
        "            r = requests.get(src)# title タグの文字列を取得する\n",
        "            img_path = f'img{N}.jpg'\n",
        "            with open(img_path, 'wb') as f:\n",
        "                f.write(r.content)\n",
        "            IMG_PATHS.append([img_path])\n",
        "            \n",
        "            # タイトル\n",
        "            title_text = soup.find('h1').get_text(strip=True)\n",
        "            #print(title_text.split()[0])\n",
        "\n",
        "            # 材料\n",
        "            zairyou = [n.get_text(strip=True) for n in soup.select('li[itemprop=\"ingredients\"] a.name, div.name')]\n",
        "            #print(zairyou)\n",
        "            # カテゴリ(ビール/日本酒/ワイン/など)\n",
        "            # category = [n.get_text(strip=True) for n in soup.select('a[sctag=\"recipe_detail_subcategory_small\"]')]\n",
        "            ZAIRYOU.append(zairyou)\n",
        "            #print(ZAIRYOU)\n",
        "            \n",
        "\n",
        "            # 手順\n",
        "            instructions = [n.get_text(strip=True) for n in soup.select('p.stepMemo')]\n",
        "            #print(instructions)\n",
        "            INSTRUCTIONS.append(instructions)\n",
        "\n",
        "            N += 1\n",
        "            #print(\"@@@@@@@@@@@@@@@@@@@@@@@@@\")\n",
        "\n",
        "scrape('https://recipe.rakuten.co.jp/category/26-260-1068', range(1,51)) #ビールに合う\n",
        "scrape('https://recipe.rakuten.co.jp/category/26-260-1069', range(1,51)) #ワイン\n",
        "scrape('https://recipe.rakuten.co.jp/category/26-260-1070', range(1,51)) #日本酒\n",
        "scrape('https://recipe.rakuten.co.jp/category/26-260-1071', range(1,51)) #焼酎\n",
        "print(len(ZAIRYOU))\n",
        "print(len(INSTRUCTIONS))\n",
        "print(len(IMG_PATHS))"
      ],
      "execution_count": 0,
      "outputs": [
        {
          "output_type": "stream",
          "text": [
            "\n",
            "\n",
            " 24%|██▍       | 12/50 [04:07<14:04, 22.23s/it]\u001b[A\u001b[A\n",
            "\n",
            " 26%|██▌       | 13/50 [04:34<14:37, 23.72s/it]\u001b[A\u001b[A\n",
            "\n",
            " 28%|██▊       | 14/50 [05:01<14:47, 24.65s/it]\u001b[A\u001b[A\n",
            "\n",
            " 30%|███       | 15/50 [05:22<13:43, 23.54s/it]\u001b[A\u001b[A\n",
            "\n",
            " 32%|███▏      | 16/50 [05:46<13:26, 23.72s/it]\u001b[A\u001b[A\n",
            "\n",
            " 34%|███▍      | 17/50 [06:13<13:39, 24.82s/it]\u001b[A\u001b[A\n",
            "\n",
            " 36%|███▌      | 18/50 [06:39<13:27, 25.24s/it]\u001b[A\u001b[A\n",
            "\n",
            " 38%|███▊      | 19/50 [07:01<12:31, 24.25s/it]\u001b[A\u001b[A\n",
            "\n",
            " 40%|████      | 20/50 [07:27<12:24, 24.81s/it]\u001b[A\u001b[A\n",
            "\n",
            " 42%|████▏     | 21/50 [07:56<12:33, 25.97s/it]\u001b[A\u001b[A\n",
            "\n",
            " 44%|████▍     | 22/50 [08:23<12:13, 26.19s/it]\u001b[A\u001b[A\n",
            "\n",
            " 46%|████▌     | 23/50 [08:47<11:34, 25.71s/it]\u001b[A\u001b[A"
          ],
          "name": "stderr"
        }
      ]
    },
    {
      "cell_type": "code",
      "metadata": {
        "id": "QfnhM0Xi73-4",
        "colab_type": "code",
        "colab": {}
      },
      "source": [
        "# 保存\n",
        "INST_PATH = '/content/drive/My Drive/Colab Notebooks/data/INSTRUCTIONS.tsv'\n",
        "ZAIRYOU_PATH = '/content/drive/My Drive/Colab Notebooks/data/ZAIRYOU.tsv'\n",
        "IMGTSV_PATH = '/content/drive/My Drive/Colab Notebooks/data/IMG_PATH.tsv'\n",
        "write_tsv(INST_PATH, INSTRUCTIONS)\n",
        "write_tsv(ZAIRYOU_PATH, ZAIRYOU)\n",
        "write_tsv(IMGTSV_PATH, IMG_PATHS)"
      ],
      "execution_count": 0,
      "outputs": []
    },
    {
      "cell_type": "code",
      "metadata": {
        "id": "NWix6LkI8Nx9",
        "colab_type": "code",
        "colab": {}
      },
      "source": [
        "!zip train_img.zip *.jpg\n",
        "!cp train_img.zip '/content/drive/My Drive/Colab Notebooks/data/'"
      ],
      "execution_count": 0,
      "outputs": []
    },
    {
      "cell_type": "markdown",
      "metadata": {
        "id": "vcGBiUkm8Bw1",
        "colab_type": "text"
      },
      "source": [
        "#テストデータ"
      ]
    },
    {
      "cell_type": "code",
      "metadata": {
        "id": "NS8xfNln7Yvr",
        "colab_type": "code",
        "colab": {}
      },
      "source": [
        "# 一覧取得用\n",
        "N = 1\n",
        "ZAIRYOU = []\n",
        "INSTRUCTIONS = []\n",
        "IMG_PATHS = []\n",
        "scrape('https://recipe.rakuten.co.jp/category/26-260-1068', range(52,61)) #ビールに合う\n",
        "scrape('https://recipe.rakuten.co.jp/category/26-260-1069', range(52,61)) #ビールに合う\n",
        "scrape('https://recipe.rakuten.co.jp/category/26-260-1070', range(52,61)) #ビールに合う\n",
        "scrape('https://recipe.rakuten.co.jp/category/26-260-1071', range(52,61)) #ビールに合う\n",
        "print(len(ZAIRYOU))\n",
        "print(len(INSTRUCTIONS))\n",
        "print(len(IMG_PATHS))"
      ],
      "execution_count": 0,
      "outputs": []
    },
    {
      "cell_type": "code",
      "metadata": {
        "id": "yu3u5QV88EJp",
        "colab_type": "code",
        "colab": {}
      },
      "source": [
        "# ファイル保存\n",
        "INST_PATH = '/content/drive/My Drive/Colab Notebooks/data/test_INSTRUCTIONS.tsv'\n",
        "ZAIRYOU_PATH = '/content/drive/My Drive/Colab Notebooks/data/test_ZAIRYOU.tsv'\n",
        "IMGTSV_PATH = '/content/drive/My Drive/Colab Notebooks/data/test_IMG_PATH.tsv'\n",
        "write_tsv(INST_PATH, INSTRUCTIONS)\n",
        "write_tsv(ZAIRYOU_PATH, ZAIRYOU)\n",
        "write_tsv(IMGTSV_PATH, IMG_PATHS)"
      ],
      "execution_count": 0,
      "outputs": []
    },
    {
      "cell_type": "code",
      "metadata": {
        "id": "-qZlNIVN8a3d",
        "colab_type": "code",
        "colab": {}
      },
      "source": [
        "!zip test_img.zip test*.jpg\n",
        "!cp test_img.zip '/content/drive/My Drive/Colab Notebooks/data/'"
      ],
      "execution_count": 0,
      "outputs": []
    },
    {
      "cell_type": "code",
      "metadata": {
        "id": "L3q7w1lw98qS",
        "colab_type": "code",
        "colab": {}
      },
      "source": [
        ""
      ],
      "execution_count": 0,
      "outputs": []
    }
  ]
}